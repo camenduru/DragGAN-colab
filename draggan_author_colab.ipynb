{
 "cells": [
  {
   "cell_type": "markdown",
   "metadata": {
    "id": "view-in-github"
   },
   "source": [
    "[![Open In Colab](https://colab.research.google.com/assets/colab-badge.svg)](https://colab.research.google.com/github/camenduru/DragGAN-colab/blob/main/draggan_author_colab.ipynb)"
   ]
  },
  {
   "cell_type": "code",
   "execution_count": null,
   "metadata": {},
   "outputs": [],
   "source": [
    "%cd /content\n",
    "!git clone -b dev https://github.com/camenduru/DragGAN\n",
    "%cd /content/DragGAN\n",
    "!pip install -r requirements.txt\n",
    "# !pip install gradio==3.35.2 einops==0.4.1 fused==0.1.0 glfw==2.2.0 imgui==1.3.0 lmdb==1.3.0 mmcv==1.3.15 pypng==0.20220715.0 pyspng==0.1.1 ninja==1.11.1\n",
    "\n",
    "!apt -y install -qq aria2\n",
    "!aria2c --console-log-level=error -c -x 16 -s 16 -k 1M https://huggingface.co/camenduru/DragGAN/resolve/main/stylegan2-afhqcat-512x512.pkl -d /content/DragGAN/checkpoints -o stylegan2-afhqcat-512x512.pkl\n",
    "!aria2c --console-log-level=error -c -x 16 -s 16 -k 1M https://huggingface.co/camenduru/DragGAN/resolve/main/stylegan2-car-config-f.pkl -d /content/DragGAN/checkpoints -o stylegan2-car-config-f.pkl\n",
    "!aria2c --console-log-level=error -c -x 16 -s 16 -k 1M https://huggingface.co/camenduru/DragGAN/resolve/main/stylegan2-cat-config-f.pkl -d /content/DragGAN/checkpoints -o stylegan2-cat-config-f.pkl\n",
    "!aria2c --console-log-level=error -c -x 16 -s 16 -k 1M https://huggingface.co/camenduru/DragGAN/resolve/main/stylegan2-ffhq-512x512.pkl -d /content/DragGAN/checkpoints -o stylegan2-ffhq-512x512.pkl\n",
    "!aria2c --console-log-level=error -c -x 16 -s 16 -k 1M https://huggingface.co/camenduru/DragGAN/resolve/main/stylegan2-lhq-256x256.pkl -d /content/DragGAN/checkpoints -o stylegan2-lhq-256x256.pkl\n",
    "!aria2c --console-log-level=error -c -x 16 -s 16 -k 1M https://huggingface.co/camenduru/DragGAN/resolve/main/stylegan2_dogs_1024_pytorch.pkl -d /content/DragGAN/checkpoints -o stylegan2_dogs_1024_pytorch.pkl\n",
    "!aria2c --console-log-level=error -c -x 16 -s 16 -k 1M https://huggingface.co/camenduru/DragGAN/resolve/main/stylegan2_elephants_512_pytorch.pkl -d /content/DragGAN/checkpoints -o stylegan2_elephants_512_pytorch.pkl\n",
    "!aria2c --console-log-level=error -c -x 16 -s 16 -k 1M https://huggingface.co/camenduru/DragGAN/resolve/main/stylegan2_horses_256_pytorch.pkl -d /content/DragGAN/checkpoints -o stylegan2_horses_256_pytorch.pkl\n",
    "!aria2c --console-log-level=error -c -x 16 -s 16 -k 1M https://huggingface.co/camenduru/DragGAN/resolve/main/stylegan2_lions_512_pytorch.pkl -d /content/DragGAN/checkpoints -o stylegan2_lions_512_pytorch.pkl\n",
    "!aria2c --console-log-level=error -c -x 16 -s 16 -k 1M https://huggingface.co/camenduru/DragGAN/resolve/main/stylegan_human_v2_512.pkl -d /content/DragGAN/checkpoints -o stylegan_human_v2_512.pkl\n",
    "\n",
    "!python visualizer_drag_gradio.py --share"
   ]
  }
 ],
 "metadata": {
  "accelerator": "GPU",
  "colab": {
   "gpuType": "T4",
   "provenance": []
  },
  "gpuClass": "standard",
  "kernelspec": {
   "display_name": "Python 3",
   "name": "python3"
  },
  "language_info": {
   "name": "python"
  },
  "orig_nbformat": 4
 },
 "nbformat": 4,
 "nbformat_minor": 0
}
